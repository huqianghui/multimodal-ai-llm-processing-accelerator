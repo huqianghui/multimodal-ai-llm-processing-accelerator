{
 "cells": [
  {
   "cell_type": "code",
   "execution_count": null,
   "metadata": {},
   "outputs": [],
   "source": [
    "import json\n",
    "import os\n",
    "from dataclasses import dataclass\n",
    "\n",
    "from IPython.display import Markdown\n",
    "from dotenv import load_dotenv\n",
    "from azure.core.credentials import AzureKeyCredential\n",
    "from azure.ai.documentintelligence import DocumentIntelligenceClient\n",
    "from azure.ai.formrecognizer import DocumentAnalysisClient, AnalysisFeature\n",
    "from azure.ai.formrecognizer import AnalyzeResult as FormRecognizerAnalyzeResult\n",
    "from azure.ai.documentintelligence.models import (\n",
    "    AnalyzeResult,\n",
    "    ContentFormat,\n",
    "    AnalyzeDocumentRequest,\n",
    "    DocumentAnalysisFeature,\n",
    ")\n",
    "USE_DOC_INTEL_PREVIEW_VERSION = True\n",
    "DOC_INTEL_MODEL_ID = \"prebuilt-layout\" # E.g. \"prebuilt-read\", \"prebuilt-layout\", or \"prebuilt-document\"\n",
    "\n",
    "# Possible Document Intelligence features\n",
    "# v4.0 (Preview): ['ocrHighResolution', 'languages', 'barcodes', 'formulas', 'styleFont', 'keyValuePairs', 'queryFields']\n",
    "# v3.3 (GA):      ['ocrHighResolution', 'languages', 'barcodes', 'formulas', 'styleFont']\n",
    "DOC_INTEL_FEATURES = ['ocrHighResolution', 'languages', 'styleFont']\n",
    "# Load environment variables from Function App local settings file\n",
    "with open(\"../function_app/local.settings.json\", \"rb\") as f:\n",
    "    local_settings = json.load(f)\n",
    "    os.environ.update(local_settings[\"Values\"])\n",
    "\n",
    "DOC_INTEL_ENDPOINT = os.getenv(\"DOC_INTEL_ENDPOINT\")\n",
    "DOC_INTEL_API_KEY = os.getenv(\"DOC_INTEL_API_KEY\")"
   ]
  },
  {
   "cell_type": "code",
   "execution_count": null,
   "metadata": {},
   "outputs": [],
   "source": [
    "di_client = DocumentIntelligenceClient(\n",
    "        endpoint=DOC_INTEL_ENDPOINT, \n",
    "        credential=AzureKeyCredential(DOC_INTEL_API_KEY),\n",
    "        api_version=\"2024-07-31-preview\",\n",
    "    )\n",
    "enabled_features = [DocumentAnalysisFeature(feature) for feature in DOC_INTEL_FEATURES]\n",
    "\n"
   ]
  },
  {
   "cell_type": "code",
   "execution_count": null,
   "metadata": {},
   "outputs": [],
   "source": [
    "import base64\n",
    "\n",
    "def convert_pdf_to_base64(pdf_path: str):\n",
    "    # Read the PDF file in binary mode, encode it to base64, and decode to string\n",
    "    with open(pdf_path, \"rb\") as file:\n",
    "        base64_encoded_pdf = base64.b64encode(file.read()).decode()\n",
    "    return base64_encoded_pdf\n",
    "analyze_request = AnalyzeDocumentRequest(bytes_source=convert_pdf_to_base64(\"/home/azureuser/multimodal-ai-llm-processing-accelerator/multimodel_pdf/oral_cancer_range1-6.pdf\"))\n",
    "\n",
    "poller = di_client.begin_analyze_document(\n",
    "            model_id=DOC_INTEL_MODEL_ID,\n",
    "            analyze_request=analyze_request,\n",
    "            output_content_format=ContentFormat.MARKDOWN,\n",
    "            features=enabled_features\n",
    "        )\n",
    "analyzedDocumentResult = poller.result()"
   ]
  },
  {
   "cell_type": "code",
   "execution_count": null,
   "metadata": {},
   "outputs": [],
   "source": [
    "print(analyzedDocumentResult.content)\n"
   ]
  },
  {
   "cell_type": "code",
   "execution_count": null,
   "metadata": {},
   "outputs": [],
   "source": [
    "Markdown(analyzedDocumentResult.content)"
   ]
  }
 ],
 "metadata": {
  "kernelspec": {
   "display_name": ".venv",
   "language": "python",
   "name": "python3"
  },
  "language_info": {
   "codemirror_mode": {
    "name": "ipython",
    "version": 3
   },
   "file_extension": ".py",
   "mimetype": "text/x-python",
   "name": "python",
   "nbconvert_exporter": "python",
   "pygments_lexer": "ipython3",
   "version": "3.11.10"
  }
 },
 "nbformat": 4,
 "nbformat_minor": 2
}
